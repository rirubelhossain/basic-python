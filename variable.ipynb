{
  "nbformat": 4,
  "nbformat_minor": 0,
  "metadata": {
    "colab": {
      "name": "variable.ipynb",
      "provenance": []
    },
    "kernelspec": {
      "name": "python3",
      "display_name": "Python 3"
    }
  },
  "cells": [
    {
      "cell_type": "code",
      "metadata": {
        "id": "I4WJroK-TdOX",
        "outputId": "34558f3f-12ed-41ea-b055-e20620020004",
        "colab": {
          "base_uri": "https://localhost:8080/"
        }
      },
      "source": [
        "a = int(input()) ;\n",
        "b = int(input()) ;\n",
        "\n",
        "\n",
        "c = a + b \n",
        "\n",
        "print(a)\n",
        "\n"
      ],
      "execution_count": 2,
      "outputs": [
        {
          "output_type": "stream",
          "text": [
            "12\n",
            "12\n",
            "12\n"
          ],
          "name": "stdout"
        }
      ]
    }
  ]
}