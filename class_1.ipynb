{
  "nbformat": 4,
  "nbformat_minor": 0,
  "metadata": {
    "colab": {
      "name": "class_1",
      "provenance": [],
      "collapsed_sections": [],
      "authorship_tag": "ABX9TyNtd/PleiXk6gzQpHXm/8E2",
      "include_colab_link": true
    },
    "kernelspec": {
      "name": "python3",
      "display_name": "Python 3"
    }
  },
  "cells": [
    {
      "cell_type": "markdown",
      "metadata": {
        "id": "view-in-github",
        "colab_type": "text"
      },
      "source": [
        "<a href=\"https://colab.research.google.com/github/rirubelhossain/basic-python/blob/main/class_1.ipynb\" target=\"_parent\"><img src=\"https://colab.research.google.com/assets/colab-badge.svg\" alt=\"Open In Colab\"/></a>"
      ]
    },
    {
      "cell_type": "code",
      "metadata": {
        "id": "p24zbo9N06un",
        "outputId": "2ea5d4d5-02d8-4f19-a77e-a3a89629350a",
        "colab": {
          "base_uri": "https://localhost:8080/"
        }
      },
      "source": [
        "class info:\n",
        "    def __init__(self):\n",
        "        print(\"hello\")\n",
        "\n",
        "call = info();\n",
        "\n",
        "\n",
        "class saysomething:\n",
        "    \n",
        "    def __init__(self, var_1 , var_2):\n",
        "        self.var_1 = var_1 \n",
        "        self.var_2 = var_2 \n",
        "        print(\"the result is = \", var_1 + var_2 )\n",
        "\n",
        "a = int(input())\n",
        "b = int(input())\n",
        "\n",
        "call_2 = saysomething(a,b)\n",
        "\n",
        "\n",
        "\n",
        "\n",
        "\n",
        "\n",
        "\n",
        "\n"
      ],
      "execution_count": 12,
      "outputs": [
        {
          "output_type": "stream",
          "text": [
            "hello\n",
            "12\n",
            "1\n",
            "the result is =  13\n"
          ],
          "name": "stdout"
        }
      ]
    }
  ]
}